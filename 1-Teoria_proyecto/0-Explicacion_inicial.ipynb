{
 "cells": [
  {
   "cell_type": "markdown",
   "id": "6a4377c8",
   "metadata": {},
   "source": [
    "# Las Variables de Nuestro Modelo de Cangrejos\n",
    "\n",
    "En el análisis de datos y la creación de modelos predictivos, las **variables** son los elementos de información que utilizamos. En nuestro proyecto de predicción del peso de partes de cangrejo, manejamos las siguientes variables clave:\n",
    "\n",
    "---\n",
    "\n",
    "## `new_weight` (Peso Total del Cangrejo)\n",
    "\n",
    "* Esta es nuestra **variable de entrada** o **variable independiente**.\n",
    "* Representa el **peso completo del cangrejo**, incluyendo todas sus partes (carne, vísceras y caparazón).\n",
    "* El modelo utiliza este peso total para estimar cuánto debería pesar cada una de las otras secciones.\n",
    "* Puedes pensar en ella como la información que ya conoces de un cangrejo y que usas para predecir lo demás.\n",
    "\n",
    "---\n",
    "\n",
    "## `Shucked Weight` (Peso de la Carne)\n",
    "\n",
    "* Esta es una de nuestras **variables de salida** o **variables dependientes**.\n",
    "* Se refiere al **peso de la carne comestible** del cangrejo una vez que ha sido extraída del caparazón y las vísceras.\n",
    "* Es lo que a menudo nos interesa para fines culinarios o de procesamiento.\n",
    "\n",
    "---\n",
    "\n",
    "## `Viscera Weight` (Peso de las Vísceras)\n",
    "\n",
    "* Esta es otra **variable de salida** o **variable dependiente**.\n",
    "* Representa el **peso de los órganos internos** del cangrejo (las vísceras).\n",
    "* Generalmente, esta parte se considera desecho en la mayoría de los casos de consumo humano, aunque puede tener otros usos.\n",
    "\n",
    "---\n",
    "\n",
    "## `Shell Weight` (Peso del Caparazón)\n",
    "\n",
    "* Esta es la última de nuestras **variables de salida** o **variables dependientes**.\n",
    "* Corresponde al **peso del caparazón** del cangrejo, incluyendo la concha dura y cualquier otro tejido no cárnico ni visceral.\n",
    "* Similar a las vísceras, el caparazón suele ser desecho después de la extracción de la carne, pero también puede ser aprovechado para otros fines.\n",
    "\n",
    "---\n",
    "\n",
    "## ¿Cómo se Relacionan estas Variables en el Modelo?\n",
    "\n",
    "Nuestro modelo de **Regresión Lineal Simple** busca una **relación directa y lineal** entre el `new_weight` (Peso Total del Cangrejo) y cada una de las otras variables de salida (`Shucked Weight`, `Viscera Weight`, `Shell Weight`).\n",
    "\n",
    "En esencia, el modelo aprende a decir: \"Si un cangrejo pesa $X$ gramos en total, entonces, basándose en lo que hemos visto en datos anteriores, esperamos que su carne pese $Y$ gramos, sus vísceras $Z$ gramos, y su caparazón $W$ gramos\".\n",
    "\n",
    "El objetivo es predecir estos pesos individuales de las partes del cangrejo de la manera más precisa posible, simplemente conociendo su peso total."
   ]
  }
 ],
 "metadata": {
  "language_info": {
   "name": "python"
  }
 },
 "nbformat": 4,
 "nbformat_minor": 5
}
