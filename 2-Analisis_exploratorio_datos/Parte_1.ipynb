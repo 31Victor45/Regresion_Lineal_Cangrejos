{
 "cells": [
  {
   "cell_type": "markdown",
   "id": "99cea9e2",
   "metadata": {},
   "source": [
    "# Primera parte del Analisis Exploratorio de Datos\n",
    "\n",
    "En esta parte nos centraremos en dar un primer vistazo inicial al dataset para ello crearemos un dataframe  df_crabs con los datos del csv \"crabs.csv\""
   ]
  },
  {
   "cell_type": "code",
   "execution_count": 8,
   "id": "c21382f0",
   "metadata": {},
   "outputs": [],
   "source": [
    "# Importamos las librerias con las cuales trabajaremos\n",
    "import numpy as np\n",
    "import pandas as pd\n",
    "\n",
    "df_crabs = pd.read_csv(\"crabs.csv\")"
   ]
  },
  {
   "cell_type": "markdown",
   "id": "0689ca68",
   "metadata": {},
   "source": [
    "Cargamos las 5 primeras filas del dataframe"
   ]
  },
  {
   "cell_type": "code",
   "execution_count": 9,
   "id": "e57ac4f9",
   "metadata": {},
   "outputs": [
    {
     "data": {
      "application/vnd.microsoft.datawrangler.viewer.v0+json": {
       "columns": [
        {
         "name": "index",
         "rawType": "int64",
         "type": "integer"
        },
        {
         "name": "Unnamed: 0",
         "rawType": "int64",
         "type": "integer"
        },
        {
         "name": "Sex",
         "rawType": "object",
         "type": "string"
        },
        {
         "name": "Length",
         "rawType": "float64",
         "type": "float"
        },
        {
         "name": "Diameter",
         "rawType": "float64",
         "type": "float"
        },
        {
         "name": "Height",
         "rawType": "float64",
         "type": "float"
        },
        {
         "name": "new_weight",
         "rawType": "float64",
         "type": "float"
        },
        {
         "name": "Shucked Weight",
         "rawType": "float64",
         "type": "float"
        },
        {
         "name": "Viscera Weight",
         "rawType": "float64",
         "type": "float"
        },
        {
         "name": "Shell Weight",
         "rawType": "float64",
         "type": "float"
        },
        {
         "name": "Age",
         "rawType": "int64",
         "type": "integer"
        }
       ],
       "ref": "71557d0c-4fdd-4d6b-ab7f-8fcc48d734cd",
       "rows": [
        [
         "0",
         "0",
         "F",
         "1.4375",
         "1.175",
         "0.4125",
         "24.665482475",
         "12.3320325",
         "5.5848515",
         "6.747181",
         "9"
        ],
        [
         "1",
         "1",
         "M",
         "0.8875",
         "0.65",
         "0.2125",
         "5.40057975",
         "2.2963095",
         "1.37495075",
         "1.5592225",
         "6"
        ],
        [
         "2",
         "2",
         "I",
         "1.0375",
         "0.775",
         "0.25",
         "7.95203475",
         "3.231843",
         "1.60174675",
         "2.76407625",
         "6"
        ],
        [
         "3",
         "3",
         "F",
         "1.175",
         "0.8875",
         "0.25",
         "13.48018725",
         "4.74854125",
         "2.28213475",
         "5.2446575",
         "10"
        ],
        [
         "4",
         "4",
         "I",
         "0.8875",
         "0.6625",
         "0.2125",
         "6.90310325",
         "3.458639",
         "1.48834875",
         "1.70097",
         "6"
        ]
       ],
       "shape": {
        "columns": 10,
        "rows": 5
       }
      },
      "text/html": [
       "<div>\n",
       "<style scoped>\n",
       "    .dataframe tbody tr th:only-of-type {\n",
       "        vertical-align: middle;\n",
       "    }\n",
       "\n",
       "    .dataframe tbody tr th {\n",
       "        vertical-align: top;\n",
       "    }\n",
       "\n",
       "    .dataframe thead th {\n",
       "        text-align: right;\n",
       "    }\n",
       "</style>\n",
       "<table border=\"1\" class=\"dataframe\">\n",
       "  <thead>\n",
       "    <tr style=\"text-align: right;\">\n",
       "      <th></th>\n",
       "      <th>Unnamed: 0</th>\n",
       "      <th>Sex</th>\n",
       "      <th>Length</th>\n",
       "      <th>Diameter</th>\n",
       "      <th>Height</th>\n",
       "      <th>new_weight</th>\n",
       "      <th>Shucked Weight</th>\n",
       "      <th>Viscera Weight</th>\n",
       "      <th>Shell Weight</th>\n",
       "      <th>Age</th>\n",
       "    </tr>\n",
       "  </thead>\n",
       "  <tbody>\n",
       "    <tr>\n",
       "      <th>0</th>\n",
       "      <td>0</td>\n",
       "      <td>F</td>\n",
       "      <td>1.4375</td>\n",
       "      <td>1.1750</td>\n",
       "      <td>0.4125</td>\n",
       "      <td>24.665482</td>\n",
       "      <td>12.332033</td>\n",
       "      <td>5.584852</td>\n",
       "      <td>6.747181</td>\n",
       "      <td>9</td>\n",
       "    </tr>\n",
       "    <tr>\n",
       "      <th>1</th>\n",
       "      <td>1</td>\n",
       "      <td>M</td>\n",
       "      <td>0.8875</td>\n",
       "      <td>0.6500</td>\n",
       "      <td>0.2125</td>\n",
       "      <td>5.400580</td>\n",
       "      <td>2.296310</td>\n",
       "      <td>1.374951</td>\n",
       "      <td>1.559222</td>\n",
       "      <td>6</td>\n",
       "    </tr>\n",
       "    <tr>\n",
       "      <th>2</th>\n",
       "      <td>2</td>\n",
       "      <td>I</td>\n",
       "      <td>1.0375</td>\n",
       "      <td>0.7750</td>\n",
       "      <td>0.2500</td>\n",
       "      <td>7.952035</td>\n",
       "      <td>3.231843</td>\n",
       "      <td>1.601747</td>\n",
       "      <td>2.764076</td>\n",
       "      <td>6</td>\n",
       "    </tr>\n",
       "    <tr>\n",
       "      <th>3</th>\n",
       "      <td>3</td>\n",
       "      <td>F</td>\n",
       "      <td>1.1750</td>\n",
       "      <td>0.8875</td>\n",
       "      <td>0.2500</td>\n",
       "      <td>13.480187</td>\n",
       "      <td>4.748541</td>\n",
       "      <td>2.282135</td>\n",
       "      <td>5.244657</td>\n",
       "      <td>10</td>\n",
       "    </tr>\n",
       "    <tr>\n",
       "      <th>4</th>\n",
       "      <td>4</td>\n",
       "      <td>I</td>\n",
       "      <td>0.8875</td>\n",
       "      <td>0.6625</td>\n",
       "      <td>0.2125</td>\n",
       "      <td>6.903103</td>\n",
       "      <td>3.458639</td>\n",
       "      <td>1.488349</td>\n",
       "      <td>1.700970</td>\n",
       "      <td>6</td>\n",
       "    </tr>\n",
       "  </tbody>\n",
       "</table>\n",
       "</div>"
      ],
      "text/plain": [
       "   Unnamed: 0 Sex  Length  Diameter  Height  new_weight  Shucked Weight  \\\n",
       "0           0   F  1.4375    1.1750  0.4125   24.665482       12.332033   \n",
       "1           1   M  0.8875    0.6500  0.2125    5.400580        2.296310   \n",
       "2           2   I  1.0375    0.7750  0.2500    7.952035        3.231843   \n",
       "3           3   F  1.1750    0.8875  0.2500   13.480187        4.748541   \n",
       "4           4   I  0.8875    0.6625  0.2125    6.903103        3.458639   \n",
       "\n",
       "   Viscera Weight  Shell Weight  Age  \n",
       "0        5.584852      6.747181    9  \n",
       "1        1.374951      1.559222    6  \n",
       "2        1.601747      2.764076    6  \n",
       "3        2.282135      5.244657   10  \n",
       "4        1.488349      1.700970    6  "
      ]
     },
     "execution_count": 9,
     "metadata": {},
     "output_type": "execute_result"
    }
   ],
   "source": [
    "df_crabs.head()"
   ]
  },
  {
   "cell_type": "markdown",
   "id": "98f63ecc",
   "metadata": {},
   "source": [
    "Veamos ahora con que tipo de variables estamos trabajando en el dataset"
   ]
  },
  {
   "cell_type": "code",
   "execution_count": 10,
   "id": "95d9fadc",
   "metadata": {},
   "outputs": [
    {
     "name": "stdout",
     "output_type": "stream",
     "text": [
      "<class 'pandas.core.frame.DataFrame'>\n",
      "RangeIndex: 3886 entries, 0 to 3885\n",
      "Data columns (total 10 columns):\n",
      " #   Column          Non-Null Count  Dtype  \n",
      "---  ------          --------------  -----  \n",
      " 0   Unnamed: 0      3886 non-null   int64  \n",
      " 1   Sex             3886 non-null   object \n",
      " 2   Length          3886 non-null   float64\n",
      " 3   Diameter        3886 non-null   float64\n",
      " 4   Height          3886 non-null   float64\n",
      " 5   new_weight      3886 non-null   float64\n",
      " 6   Shucked Weight  3886 non-null   float64\n",
      " 7   Viscera Weight  3886 non-null   float64\n",
      " 8   Shell Weight    3886 non-null   float64\n",
      " 9   Age             3886 non-null   int64  \n",
      "dtypes: float64(7), int64(2), object(1)\n",
      "memory usage: 303.7+ KB\n"
     ]
    }
   ],
   "source": [
    "df_crabs.info()"
   ]
  },
  {
   "cell_type": "markdown",
   "id": "e8d79ede",
   "metadata": {},
   "source": [
    "Veamos cuantas filas y columnas tiene el dataframe"
   ]
  },
  {
   "cell_type": "code",
   "execution_count": 11,
   "id": "fba3f764",
   "metadata": {},
   "outputs": [
    {
     "name": "stdout",
     "output_type": "stream",
     "text": [
      "El dataframe df_crabs tiene 3887 filas y 10 columnas.\n"
     ]
    }
   ],
   "source": [
    "print(\"El dataframe df_crabs tiene {} filas y {} columnas.\".format(df_crabs.shape[0]+1, df_crabs.shape[1]))"
   ]
  },
  {
   "cell_type": "markdown",
   "id": "d7fd913b",
   "metadata": {},
   "source": [
    "### Primeras observaciones\n",
    "\n",
    "El dataframe ha cargado correctamente y ya sabemos la cantidad de filas y columnas que tiene asi como el tipo de las variables que lo integran"
   ]
  },
  {
   "cell_type": "markdown",
   "id": "ad5e8938",
   "metadata": {},
   "source": [
    "### Introduccion a las estadisticas del dataframe df_crabs\n",
    "\n",
    "Ahora obtengamos estadisticos elementales como la media, la desviacion estandar, la mediana (50% en la tabla) esto se debe a que la mediana es el cuartil central y el valor minimo y maximo "
   ]
  },
  {
   "cell_type": "code",
   "execution_count": 12,
   "id": "fa55477e",
   "metadata": {},
   "outputs": [
    {
     "data": {
      "application/vnd.microsoft.datawrangler.viewer.v0+json": {
       "columns": [
        {
         "name": "index",
         "rawType": "object",
         "type": "string"
        },
        {
         "name": "Length",
         "rawType": "float64",
         "type": "float"
        },
        {
         "name": "Diameter",
         "rawType": "float64",
         "type": "float"
        },
        {
         "name": "Height",
         "rawType": "float64",
         "type": "float"
        },
        {
         "name": "new_weight",
         "rawType": "float64",
         "type": "float"
        },
        {
         "name": "Shucked Weight",
         "rawType": "float64",
         "type": "float"
        },
        {
         "name": "Viscera Weight",
         "rawType": "float64",
         "type": "float"
        },
        {
         "name": "Shell Weight",
         "rawType": "float64",
         "type": "float"
        },
        {
         "name": "Age",
         "rawType": "float64",
         "type": "float"
        }
       ],
       "ref": "4db67186-9b57-4d5b-a394-5922ab924d3e",
       "rows": [
        [
         "count",
         "3886.0",
         "3886.0",
         "3886.0",
         "3886.0",
         "3886.0",
         "3886.0",
         "3886.0",
         "3886.0"
        ],
        [
         "mean",
         "1.31",
         "1.02",
         "0.35",
         "23.65",
         "10.22",
         "5.14",
         "6.8",
         "9.96"
        ],
        [
         "std",
         "0.3",
         "0.25",
         "0.1",
         "13.88",
         "6.27",
         "3.1",
         "3.94",
         "3.22"
        ],
        [
         "min",
         "0.19",
         "0.14",
         "0.0",
         "0.09",
         "0.03",
         "0.01",
         "0.04",
         "1.0"
        ],
        [
         "25%",
         "1.12",
         "0.88",
         "0.29",
         "12.75",
         "5.35",
         "2.68",
         "3.74",
         "8.0"
        ],
        [
         "50%",
         "1.36",
         "1.06",
         "0.36",
         "22.83",
         "9.57",
         "4.86",
         "6.66",
         "10.0"
        ],
        [
         "75%",
         "1.54",
         "1.2",
         "0.41",
         "32.87",
         "14.28",
         "7.21",
         "9.36",
         "11.0"
        ],
        [
         "max",
         "2.04",
         "1.62",
         "2.82",
         "80.1",
         "42.18",
         "21.55",
         "28.49",
         "29.0"
        ]
       ],
       "shape": {
        "columns": 8,
        "rows": 8
       }
      },
      "text/html": [
       "<div>\n",
       "<style scoped>\n",
       "    .dataframe tbody tr th:only-of-type {\n",
       "        vertical-align: middle;\n",
       "    }\n",
       "\n",
       "    .dataframe tbody tr th {\n",
       "        vertical-align: top;\n",
       "    }\n",
       "\n",
       "    .dataframe thead th {\n",
       "        text-align: right;\n",
       "    }\n",
       "</style>\n",
       "<table border=\"1\" class=\"dataframe\">\n",
       "  <thead>\n",
       "    <tr style=\"text-align: right;\">\n",
       "      <th></th>\n",
       "      <th>Length</th>\n",
       "      <th>Diameter</th>\n",
       "      <th>Height</th>\n",
       "      <th>new_weight</th>\n",
       "      <th>Shucked Weight</th>\n",
       "      <th>Viscera Weight</th>\n",
       "      <th>Shell Weight</th>\n",
       "      <th>Age</th>\n",
       "    </tr>\n",
       "  </thead>\n",
       "  <tbody>\n",
       "    <tr>\n",
       "      <th>count</th>\n",
       "      <td>3886.00</td>\n",
       "      <td>3886.00</td>\n",
       "      <td>3886.00</td>\n",
       "      <td>3886.00</td>\n",
       "      <td>3886.00</td>\n",
       "      <td>3886.00</td>\n",
       "      <td>3886.00</td>\n",
       "      <td>3886.00</td>\n",
       "    </tr>\n",
       "    <tr>\n",
       "      <th>mean</th>\n",
       "      <td>1.31</td>\n",
       "      <td>1.02</td>\n",
       "      <td>0.35</td>\n",
       "      <td>23.65</td>\n",
       "      <td>10.22</td>\n",
       "      <td>5.14</td>\n",
       "      <td>6.80</td>\n",
       "      <td>9.96</td>\n",
       "    </tr>\n",
       "    <tr>\n",
       "      <th>std</th>\n",
       "      <td>0.30</td>\n",
       "      <td>0.25</td>\n",
       "      <td>0.10</td>\n",
       "      <td>13.88</td>\n",
       "      <td>6.27</td>\n",
       "      <td>3.10</td>\n",
       "      <td>3.94</td>\n",
       "      <td>3.22</td>\n",
       "    </tr>\n",
       "    <tr>\n",
       "      <th>min</th>\n",
       "      <td>0.19</td>\n",
       "      <td>0.14</td>\n",
       "      <td>0.00</td>\n",
       "      <td>0.09</td>\n",
       "      <td>0.03</td>\n",
       "      <td>0.01</td>\n",
       "      <td>0.04</td>\n",
       "      <td>1.00</td>\n",
       "    </tr>\n",
       "    <tr>\n",
       "      <th>25%</th>\n",
       "      <td>1.12</td>\n",
       "      <td>0.88</td>\n",
       "      <td>0.29</td>\n",
       "      <td>12.75</td>\n",
       "      <td>5.35</td>\n",
       "      <td>2.68</td>\n",
       "      <td>3.74</td>\n",
       "      <td>8.00</td>\n",
       "    </tr>\n",
       "    <tr>\n",
       "      <th>50%</th>\n",
       "      <td>1.36</td>\n",
       "      <td>1.06</td>\n",
       "      <td>0.36</td>\n",
       "      <td>22.83</td>\n",
       "      <td>9.57</td>\n",
       "      <td>4.86</td>\n",
       "      <td>6.66</td>\n",
       "      <td>10.00</td>\n",
       "    </tr>\n",
       "    <tr>\n",
       "      <th>75%</th>\n",
       "      <td>1.54</td>\n",
       "      <td>1.20</td>\n",
       "      <td>0.41</td>\n",
       "      <td>32.87</td>\n",
       "      <td>14.28</td>\n",
       "      <td>7.21</td>\n",
       "      <td>9.36</td>\n",
       "      <td>11.00</td>\n",
       "    </tr>\n",
       "    <tr>\n",
       "      <th>max</th>\n",
       "      <td>2.04</td>\n",
       "      <td>1.62</td>\n",
       "      <td>2.82</td>\n",
       "      <td>80.10</td>\n",
       "      <td>42.18</td>\n",
       "      <td>21.55</td>\n",
       "      <td>28.49</td>\n",
       "      <td>29.00</td>\n",
       "    </tr>\n",
       "  </tbody>\n",
       "</table>\n",
       "</div>"
      ],
      "text/plain": [
       "        Length  Diameter   Height  new_weight  Shucked Weight  Viscera Weight  \\\n",
       "count  3886.00   3886.00  3886.00     3886.00         3886.00         3886.00   \n",
       "mean      1.31      1.02     0.35       23.65           10.22            5.14   \n",
       "std       0.30      0.25     0.10       13.88            6.27            3.10   \n",
       "min       0.19      0.14     0.00        0.09            0.03            0.01   \n",
       "25%       1.12      0.88     0.29       12.75            5.35            2.68   \n",
       "50%       1.36      1.06     0.36       22.83            9.57            4.86   \n",
       "75%       1.54      1.20     0.41       32.87           14.28            7.21   \n",
       "max       2.04      1.62     2.82       80.10           42.18           21.55   \n",
       "\n",
       "       Shell Weight      Age  \n",
       "count       3886.00  3886.00  \n",
       "mean           6.80     9.96  \n",
       "std            3.94     3.22  \n",
       "min            0.04     1.00  \n",
       "25%            3.74     8.00  \n",
       "50%            6.66    10.00  \n",
       "75%            9.36    11.00  \n",
       "max           28.49    29.00  "
      ]
     },
     "execution_count": 12,
     "metadata": {},
     "output_type": "execute_result"
    }
   ],
   "source": [
    "# Elimina la columna 'Unnamed: 0' del DataFrame antes de usar describe\n",
    "df_crabs = df_crabs.drop('Unnamed: 0', axis=1)\n",
    "\n",
    "# Calcula las estadísticas descriptivas y redondea a 2 decimales\n",
    "np.round(df_crabs.describe(),2)"
   ]
  },
  {
   "cell_type": "markdown",
   "id": "2fc79545",
   "metadata": {},
   "source": [
    "### Concluciones:\n",
    "Mediante el metodo .describe() hemos obtenido diversos estadisticos para cada una de las columnas numericas del dataset (los cuales puedes consultar en la tabla proporcionada mas detalladamente), esto nos da una panoramica inicial de las variables con las cuales vamos a estar trabajando pero el analisis no hace mas que empezar\n"
   ]
  },
  {
   "cell_type": "markdown",
   "id": "6aeb248d",
   "metadata": {},
   "source": [
    "## El proceso de limpieza de los datos\n",
    "\n",
    "Ahora vamos a realizar una serie de operaciones para aseguranos que estamos trabajando con un dataset que no contenga valores nulos y no existan muchas filas repetidas\n",
    "\n",
    "<u>Observacion importante:</u>\n",
    "* Debido a que estamos trabajando con muetras de cangrejos, puede llegarse a dar el caso que se repita 1 o 2 veses alguna fila ya que mas de un cangrejo comparten las mismas caracteristicas esto seria algo raro y no supondra un problema mientras sean pocos. \n"
   ]
  },
  {
   "cell_type": "code",
   "execution_count": 13,
   "id": "57084615",
   "metadata": {},
   "outputs": [
    {
     "data": {
      "application/vnd.microsoft.datawrangler.viewer.v0+json": {
       "columns": [
        {
         "name": "index",
         "rawType": "object",
         "type": "string"
        },
        {
         "name": "0",
         "rawType": "int64",
         "type": "integer"
        }
       ],
       "ref": "f916ac9a-990c-41b2-842a-e1a9a661228b",
       "rows": [
        [
         "Sex",
         "0"
        ],
        [
         "Length",
         "0"
        ],
        [
         "Diameter",
         "0"
        ],
        [
         "Height",
         "0"
        ],
        [
         "new_weight",
         "0"
        ],
        [
         "Shucked Weight",
         "0"
        ],
        [
         "Viscera Weight",
         "0"
        ],
        [
         "Shell Weight",
         "0"
        ],
        [
         "Age",
         "0"
        ]
       ],
       "shape": {
        "columns": 1,
        "rows": 9
       }
      },
      "text/plain": [
       "Sex               0\n",
       "Length            0\n",
       "Diameter          0\n",
       "Height            0\n",
       "new_weight        0\n",
       "Shucked Weight    0\n",
       "Viscera Weight    0\n",
       "Shell Weight      0\n",
       "Age               0\n",
       "dtype: int64"
      ]
     },
     "execution_count": 13,
     "metadata": {},
     "output_type": "execute_result"
    }
   ],
   "source": [
    "# Cantidad de valores nulos por columna\n",
    "df_crabs.isnull().sum()"
   ]
  },
  {
   "cell_type": "code",
   "execution_count": 14,
   "id": "66887243",
   "metadata": {},
   "outputs": [
    {
     "name": "stdout",
     "output_type": "stream",
     "text": [
      "\n",
      "# Número de filas duplicadas: 0\n"
     ]
    }
   ],
   "source": [
    "# Filas duplicadas\n",
    "print(\"\\n# Número de filas duplicadas:\", df_crabs.duplicated().sum())"
   ]
  },
  {
   "cell_type": "markdown",
   "id": "3f4e8ab8",
   "metadata": {},
   "source": [
    "### Concluciones\n",
    "\n",
    "Como podemos observar no existen ni valores nulos en ninguna de las columnas ni filas filas duplicadas lo cual nos deja en un dataset que esta listo para pasar al analisis univariado y bivariado pero eso sera en la siguiente parte.<u> Ven y descrubrelo en la parte 2</u>"
   ]
  }
 ],
 "metadata": {
  "kernelspec": {
   "display_name": "base",
   "language": "python",
   "name": "python3"
  },
  "language_info": {
   "codemirror_mode": {
    "name": "ipython",
    "version": 3
   },
   "file_extension": ".py",
   "mimetype": "text/x-python",
   "name": "python",
   "nbconvert_exporter": "python",
   "pygments_lexer": "ipython3",
   "version": "3.12.7"
  }
 },
 "nbformat": 4,
 "nbformat_minor": 5
}
